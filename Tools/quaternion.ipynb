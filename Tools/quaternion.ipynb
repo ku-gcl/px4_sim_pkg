{
 "cells": [
  {
   "cell_type": "code",
   "execution_count": 6,
   "metadata": {},
   "outputs": [],
   "source": [
    "from scipy.spatial.transform import Rotation as R\n",
    "import numpy as np"
   ]
  },
  {
   "cell_type": "code",
   "execution_count": 5,
   "metadata": {},
   "outputs": [
    {
     "data": {
      "text/plain": [
       "(array([0., 0., 0.]), array([0.19134172, 0.46193977, 0.19134172, 0.8446232 ]))"
      ]
     },
     "execution_count": 5,
     "metadata": {},
     "output_type": "execute_result"
    }
   ],
   "source": [
    "# クォータニオンからオイラー角への変換例\n",
    "quaternion = [0, 0, 0, 1]  # 例: [x, y, z, w]\n",
    "rotation = R.from_quat(quaternion)\n",
    "euler = rotation.as_euler('xyz', degrees=True)  # 'xyz' または 'zyx' などの順序、degrees=True で度数法に\n",
    "\n",
    "# オイラー角からクォータニオンへの変換例\n",
    "euler_angles = [45, 45, 45]  # 例: [ロール, ピッチ, ヨー] (度数法)\n",
    "rotation = R.from_euler('xyz', euler_angles, degrees=True)\n",
    "quaternion = rotation.as_quat()  # [x, y, z, w] 形式\n",
    "\n",
    "euler, quaternion\n"
   ]
  },
  {
   "cell_type": "markdown",
   "metadata": {},
   "source": [
    "/mavros/local_position/pose"
   ]
  },
  {
   "cell_type": "code",
   "execution_count": 13,
   "metadata": {},
   "outputs": [
    {
     "name": "stdout",
     "output_type": "stream",
     "text": [
      "[-0.37126891  0.06775302 -5.50314056]\n"
     ]
    }
   ],
   "source": [
    "quaternion = [0.0032078074082483865, -0.0007461061350673449, 0.048003329729001815, -0.998841746039979]\n",
    "rotation = R.from_quat(quaternion)\n",
    "euler = rotation.as_euler('xyz', degrees=True)\n",
    "\n",
    "print(euler)\n"
   ]
  },
  {
   "cell_type": "markdown",
   "metadata": {},
   "source": [
    "/mavros/vision_pose/pose"
   ]
  },
  {
   "cell_type": "code",
   "execution_count": 12,
   "metadata": {},
   "outputs": [
    {
     "name": "stdout",
     "output_type": "stream",
     "text": [
      "[ 0.13739591  0.13929804 -5.49872034]\n"
     ]
    }
   ],
   "source": [
    "quaternion = [-0.0012559330789372325, -0.0011566916946321726, 0.047968361526727676, -0.9988474249839783]\n",
    "rotation = R.from_quat(quaternion)\n",
    "euler = rotation.as_euler('xyz', degrees=True)\n",
    "\n",
    "print(euler)"
   ]
  },
  {
   "cell_type": "markdown",
   "metadata": {},
   "source": [
    "rostopic echo /mavros/global_position/compass_hdg\n",
    "\n",
    "data: 95.49\n"
   ]
  },
  {
   "cell_type": "code",
   "execution_count": null,
   "metadata": {},
   "outputs": [],
   "source": []
  }
 ],
 "metadata": {
  "kernelspec": {
   "display_name": "Python 3",
   "language": "python",
   "name": "python3"
  },
  "language_info": {
   "codemirror_mode": {
    "name": "ipython",
    "version": 3
   },
   "file_extension": ".py",
   "mimetype": "text/x-python",
   "name": "python",
   "nbconvert_exporter": "python",
   "pygments_lexer": "ipython3",
   "version": "3.8.10"
  }
 },
 "nbformat": 4,
 "nbformat_minor": 2
}
